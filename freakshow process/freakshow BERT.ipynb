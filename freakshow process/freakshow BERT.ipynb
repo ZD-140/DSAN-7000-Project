{
 "cells": [
  {
   "cell_type": "code",
   "execution_count": 1,
   "metadata": {},
   "outputs": [],
   "source": [
    "import pandas as pd\n",
    "import matplotlib.pyplot as plt"
   ]
  },
  {
   "cell_type": "code",
   "execution_count": 2,
   "metadata": {},
   "outputs": [],
   "source": [
    "data = pd.read_csv(\"cleaned_freakshow_training.csv\")\n"
   ]
  },
  {
   "cell_type": "code",
   "execution_count": 3,
   "metadata": {},
   "outputs": [
    {
     "name": "stdout",
     "output_type": "stream",
     "text": [
      "sideshow          213\n",
      "politics          193\n",
      "sports            145\n",
      "music             109\n",
      "mass media         87\n",
      "car show           69\n",
      "theatre            29\n",
      "art                19\n",
      "freakshow          13\n",
      "economy            11\n",
      "crime               7\n",
      "tech                3\n",
      "wine                3\n",
      "celebrity           2\n",
      "graphic design      2\n",
      "antiques            1\n",
      "drunkeness          1\n",
      "halloween           1\n",
      "Name: Category, dtype: int64\n"
     ]
    }
   ],
   "source": [
    "# 创建一个函数，用于标准化 Category 列\n",
    "def clean_category(category):\n",
    "    category = category.strip().lower()  # 去除首尾空格并统一小写\n",
    "\n",
    "    # 修正特定类别拼写和大小写不一致\n",
    "    corrections = {\n",
    "        \"car\": \"car show\",\n",
    "        \"car show\": \"car show\",\n",
    "        \"car show*\": \"car show\",\n",
    "        \"carshow\": \"car show\",\n",
    "        \"politics\": \"politics\",\n",
    "        \"mass media\": \"mass media\",\n",
    "        \"sports\": \"sports\",\n",
    "        \"music\": \"music\",\n",
    "        \"freakshow\": \"freakshow\",\n",
    "        \"sideshow\": \"sideshow\",\n",
    "        \"sideshow*\": \"sideshow\",\n",
    "        \"wine\": \"wine\",\n",
    "        \"theater\": \"theatre\",  # 修正美式拼写\n",
    "        \"theatre\": \"theatre\",\n",
    "        \"graphic design\": \"graphic design\",\n",
    "        \"crime\": \"crime\",\n",
    "        \"tech\": \"tech\",\n",
    "        \"economy\": \"economy\",\n",
    "        \"celebrity\": \"celebrity\",\n",
    "        \"drunkeness\": \"drunkeness\",\n",
    "        \"antiques\": \"antiques\"\n",
    "    }\n",
    "\n",
    "    # 返回修正后的类别\n",
    "    return corrections.get(category, category)  # 如果未匹配到 corrections，则保留原类别\n",
    "\n",
    "# 应用清理函数到 Category 列\n",
    "data['Category'] = data['Category'].apply(clean_category)\n",
    "\n",
    "# 检查清理后的类别分布\n",
    "print(data['Category'].value_counts())\n"
   ]
  },
  {
   "cell_type": "code",
   "execution_count": 19,
   "metadata": {},
   "outputs": [
    {
     "name": "stdout",
     "output_type": "stream",
     "text": [
      "Filtered category distribution:\n",
      "sideshow      201\n",
      "politics      183\n",
      "sports        133\n",
      "music         104\n",
      "mass media     83\n",
      "car show       66\n",
      "theatre        28\n",
      "art            17\n",
      "freakshow      12\n",
      "economy        10\n",
      "Name: Category, dtype: int64\n",
      "Original data size: 837, Filtered data size: 837\n"
     ]
    }
   ],
   "source": [
    "\n",
    "category_counts = data['Category'].value_counts()\n",
    "categories_to_remove = category_counts[category_counts < 10].index.tolist()\n",
    "\n",
    "\n",
    "data = data[~data['Category'].isin(categories_to_remove)].reset_index(drop=True)\n",
    "\n",
    "print(\"Filtered category distribution:\")\n",
    "print(data['Category'].value_counts())\n",
    "\n",
    "print(f\"Original data size: {len(data)}, Filtered data size: {len(data)}\")\n"
   ]
  },
  {
   "cell_type": "code",
   "execution_count": 20,
   "metadata": {},
   "outputs": [
    {
     "data": {
      "text/plain": [
       "837"
      ]
     },
     "execution_count": 20,
     "metadata": {},
     "output_type": "execute_result"
    }
   ],
   "source": [
    "len(data)"
   ]
  },
  {
   "cell_type": "code",
   "execution_count": 4,
   "metadata": {},
   "outputs": [
    {
     "name": "stdout",
     "output_type": "stream",
     "text": [
      "<class 'pandas.core.frame.DataFrame'>\n",
      "RangeIndex: 908 entries, 0 to 907\n",
      "Data columns (total 7 columns):\n",
      " #   Column           Non-Null Count  Dtype \n",
      "---  ------           --------------  ----- \n",
      " 0   Category         908 non-null    object\n",
      " 1   Date             853 non-null    object\n",
      " 2   URL              908 non-null    object\n",
      " 3   Content          856 non-null    object\n",
      " 4   content_length   908 non-null    int64 \n",
      " 5   cleaned_content  856 non-null    object\n",
      " 6   label_encoded    908 non-null    int64 \n",
      "dtypes: int64(2), object(5)\n",
      "memory usage: 49.8+ KB\n"
     ]
    }
   ],
   "source": [
    "data.info()"
   ]
  },
  {
   "cell_type": "code",
   "execution_count": 22,
   "metadata": {},
   "outputs": [
    {
     "name": "stdout",
     "output_type": "stream",
     "text": [
      "Mapping from Category to label_encoded:\n",
      "{'art': 0, 'car show': 1, 'economy': 2, 'freakshow': 3, 'mass media': 4, 'music': 5, 'politics': 6, 'sideshow': 7, 'sports': 8, 'theatre': 9}\n",
      "\n",
      "Encoded label distribution:\n",
      "7    201\n",
      "6    183\n",
      "8    133\n",
      "5    104\n",
      "4     83\n",
      "1     66\n",
      "9     28\n",
      "0     17\n",
      "3     12\n",
      "2     10\n",
      "Name: label_encoded, dtype: int64\n"
     ]
    }
   ],
   "source": [
    "# unique encoding\n",
    "category_to_label = {category: idx for idx, category in enumerate(sorted(data['Category'].unique()))}\n",
    "\n",
    "data['label_encoded'] = data['Category'].map(category_to_label)\n",
    "\n",
    "print(\"Mapping from Category to label_encoded:\")\n",
    "print(category_to_label)\n",
    "\n",
    "print(\"\\nEncoded label distribution:\")\n",
    "print(data['label_encoded'].value_counts())\n"
   ]
  },
  {
   "cell_type": "code",
   "execution_count": 24,
   "metadata": {},
   "outputs": [],
   "source": [
    "data.to_csv(\"cleaned_data.csv\")"
   ]
  },
  {
   "cell_type": "code",
   "execution_count": 25,
   "metadata": {},
   "outputs": [
    {
     "name": "stdout",
     "output_type": "stream",
     "text": [
      "'cleaned_content' miss value：0\n",
      "'label_encoded' miss value：0\n"
     ]
    }
   ],
   "source": [
    "# check cleaned_content ,label_encoded miss value\n",
    "missing_cleaned_content = data['cleaned_content'].isnull().sum()\n",
    "missing_label_encoded = data['label_encoded'].isnull().sum()\n",
    "\n",
    "print(f\"'cleaned_content' miss value：{missing_cleaned_content}\")\n",
    "print(f\"'label_encoded' miss value：{missing_label_encoded}\")\n"
   ]
  },
  {
   "cell_type": "code",
   "execution_count": 26,
   "metadata": {},
   "outputs": [
    {
     "name": "stdout",
     "output_type": "stream",
     "text": [
      "837\n"
     ]
    }
   ],
   "source": [
    "data = data.dropna(subset=['cleaned_content']).reset_index(drop=True)\n",
    "print(len(data))"
   ]
  },
  {
   "cell_type": "code",
   "execution_count": 27,
   "metadata": {},
   "outputs": [
    {
     "name": "stdout",
     "output_type": "stream",
     "text": [
      "count    8.370000e+02\n",
      "mean     5.200495e+03\n",
      "std      5.926315e+04\n",
      "min      5.000000e+00\n",
      "25%      1.047000e+03\n",
      "50%      2.157000e+03\n",
      "75%      3.543000e+03\n",
      "max      1.708178e+06\n",
      "Name: content_length, dtype: float64\n"
     ]
    },
    {
     "data": {
      "image/png": "[encoded data removed]",
      "text/plain": [
       "<Figure size 1000x600 with 1 Axes>"
      ]
     },
     "metadata": {},
     "output_type": "display_data"
    }
   ],
   "source": [
    "import matplotlib.pyplot as plt\n",
    "\n",
    "data['content_length'] = data['cleaned_content'].apply(len)\n",
    "\n",
    "print(data['content_length'].describe())\n",
    "\n",
    "# length distribution\n",
    "plt.figure(figsize=(10, 6))\n",
    "plt.hist(data['content_length'], bins=50, color='skyblue', edgecolor='black')\n",
    "plt.title('Distribution of Text Lengths')\n",
    "plt.xlabel('Text Length')\n",
    "plt.ylabel('Frequency')\n",
    "plt.show()\n"
   ]
  },
  {
   "cell_type": "code",
   "execution_count": 28,
   "metadata": {},
   "outputs": [
    {
     "name": "stdout",
     "output_type": "stream",
     "text": [
      "Shape of input_ids: torch.Size([837, 512])\n",
      "Shape of attention_mask: torch.Size([837, 512])\n"
     ]
    }
   ],
   "source": [
    "from transformers import BertTokenizer\n",
    "\n",
    "# Load pre-trained BERT tokenizer\n",
    "tokenizer = BertTokenizer.from_pretrained(\"bert-base-uncased\")\n",
    "\n",
    "# Define a function to tokenize text data with truncation and padding\n",
    "def tokenize_data(texts, tokenizer, max_length=512):\n",
    "    \"\"\"\n",
    "    Tokenize input text data using BERT tokenizer.\n",
    "    Parameters:\n",
    "        texts (list of str): List of text data to tokenize.\n",
    "        tokenizer (BertTokenizer): Pre-trained BERT tokenizer.\n",
    "        max_length (int): Maximum sequence length for padding/truncation.\n",
    "    Returns:\n",
    "        dict: Dictionary with tokenized input_ids, attention_mask.\n",
    "    \"\"\"\n",
    "    return tokenizer(\n",
    "        texts,\n",
    "        truncation=True,         # Truncate sequences to max_length\n",
    "        padding=\"max_length\",    # Pad sequences to max_length\n",
    "        max_length=max_length,   # Maximum sequence length\n",
    "        return_tensors=\"pt\"      # Return PyTorch tensors\n",
    "    )\n",
    "\n",
    "# Tokenize the text data (cleaned_content column)\n",
    "max_length = 512  # Define the fixed sequence length\n",
    "encodings = tokenize_data(data['cleaned_content'].tolist(), tokenizer, max_length=max_length)\n",
    "\n",
    "# Check the shape of tokenized inputs\n",
    "print(f\"Shape of input_ids: {encodings['input_ids'].shape}\")        # Shape of token IDs\n",
    "print(f\"Shape of attention_mask: {encodings['attention_mask'].shape}\")  # Shape of attention mask\n"
   ]
  },
  {
   "cell_type": "code",
   "execution_count": 29,
   "metadata": {},
   "outputs": [
    {
     "name": "stdout",
     "output_type": "stream",
     "text": [
      "Number of samples in the dataset: 837\n",
      "Example of a dataset sample:\n",
      "{'input_ids': tensor([  101, 22042,  3696,  5993,  2744,  4650,  3191,  9394,  3343,  3696,\n",
      "         1999,  6279,  2591,  4070,  2180,  2102,  2695,  4070, 20786,  2442,\n",
      "         2421,  3696,  1999,  6279,  2591,  4070,  2180,  2102,  2695,  4070,\n",
      "        20786,  2442,  2421,  2064,  2102,  2767,  2208,  5045,  2067, 28997,\n",
      "         4971,  2047,  2299, 20739,  2491,  2028,  2154,  4971,  3333,  4487,\n",
      "         2015,  2650,  6136,  2402,  5003,  1051,  9541,  2226,  2226,  2226,\n",
      "         6160,  2225,  7110,  2102,  2166, 11623,  2994, 12065,  2102,  2175,\n",
      "         2078,  2707,  2514,  2066,  3190,  2562,  4172,  2072, 19808,  3501,\n",
      "         3903, 14406,  2208,  9680, 20739,  2491,  2207,  9857,  2244, 18592,\n",
      "         3128,  4431,  4971, 11155, 13552,  7867, 15969,  4679,  7867,  6884,\n",
      "         5745, 15994,  9680,  4691,  5598, 15969,  4679,  2123,  2102, 15121,\n",
      "         2051,  2175,  2852, 10993,  9096,  2123,  2102,  9680,  3198,  7743,\n",
      "         2113, 10506,  2480,  8132, 10657,  2693,  2474,  2404,  1038,  2067,\n",
      "         2208,  2036,  2507, 27863, 11245,  5833, 14068,  2666,  9033, 12439,\n",
      "         3728,  3662,  2490,  4971, 13463,  5490,  6692, 11362,  2202, 14068,\n",
      "         2067, 24497, 16021, 23091,  2559,  2066,  2388, 24316,  2075, 14068,\n",
      "        16078,  2208,  9680,  5147,  4942, 29234,  2094,  6608,  5993,  2744,\n",
      "         9394,  3343,  4374, 10373,  1057,  4882,  4638,  6745,  2739,  8224,\n",
      "         2739,  4638,  6745,  2739,  6207,  2739,  2064,  2102,  2562,  2067,\n",
      "         5685, 15628, 13552,  2182,  1056,  6392,  2099,  2544, 12486,  2211,\n",
      "         3041,  3204,  2208,  3555,  4971,  5496,  2920,  5977,  9803,  2238,\n",
      "        11912, 13742,  4971,  3202,  6380,  2035, 29107,  3508, 15870,  2713,\n",
      "         2093,  4487,  2015,  2650, 10320,  3507, 10687,  2804,  8618,  2420,\n",
      "        10052, 16021, 23091, 13552,  4952,  2208, 20739,  2491,  5147,  4942,\n",
      "        29234,  2094,  6608,  5993,  2744,  9394,  3343,  4374, 10373,  1057,\n",
      "         4882,  5147,  4942, 29234,  2094,  6608,  5993,  2744,  9394,  3343,\n",
      "         4374, 10373,  1057,  4882,  1057,  4882,  8727,  5386,  2089,  4374,\n",
      "         9430,  4957,  4031,  2326,  5147,  4942, 29234,  2094,  6608,  5993,\n",
      "         2744,  9394,  3343,  4374, 10373,  1057,  4882,  1057,  4882,  2112,\n",
      "         2112,  2572,  2098,  2401,  4024,  2177,  2572,  2098,  2401,  6113,\n",
      "         2773, 20110, 21722,   102,     0,     0,     0,     0,     0,     0,\n",
      "            0,     0,     0,     0,     0,     0,     0,     0,     0,     0,\n",
      "            0,     0,     0,     0,     0,     0,     0,     0,     0,     0,\n",
      "            0,     0,     0,     0,     0,     0,     0,     0,     0,     0,\n",
      "            0,     0,     0,     0,     0,     0,     0,     0,     0,     0,\n",
      "            0,     0,     0,     0,     0,     0,     0,     0,     0,     0,\n",
      "            0,     0,     0,     0,     0,     0,     0,     0,     0,     0,\n",
      "            0,     0,     0,     0,     0,     0,     0,     0,     0,     0,\n",
      "            0,     0,     0,     0,     0,     0,     0,     0,     0,     0,\n",
      "            0,     0,     0,     0,     0,     0,     0,     0,     0,     0,\n",
      "            0,     0,     0,     0,     0,     0,     0,     0,     0,     0,\n",
      "            0,     0,     0,     0,     0,     0,     0,     0,     0,     0,\n",
      "            0,     0,     0,     0,     0,     0,     0,     0,     0,     0,\n",
      "            0,     0,     0,     0,     0,     0,     0,     0,     0,     0,\n",
      "            0,     0,     0,     0,     0,     0,     0,     0,     0,     0,\n",
      "            0,     0,     0,     0,     0,     0,     0,     0,     0,     0,\n",
      "            0,     0,     0,     0,     0,     0,     0,     0,     0,     0,\n",
      "            0,     0,     0,     0,     0,     0,     0,     0,     0,     0,\n",
      "            0,     0,     0,     0,     0,     0,     0,     0,     0,     0,\n",
      "            0,     0,     0,     0,     0,     0,     0,     0,     0,     0,\n",
      "            0,     0,     0,     0,     0,     0,     0,     0,     0,     0,\n",
      "            0,     0]), 'token_type_ids': tensor([0, 0, 0, 0, 0, 0, 0, 0, 0, 0, 0, 0, 0, 0, 0, 0, 0, 0, 0, 0, 0, 0, 0, 0,\n",
      "        0, 0, 0, 0, 0, 0, 0, 0, 0, 0, 0, 0, 0, 0, 0, 0, 0, 0, 0, 0, 0, 0, 0, 0,\n",
      "        0, 0, 0, 0, 0, 0, 0, 0, 0, 0, 0, 0, 0, 0, 0, 0, 0, 0, 0, 0, 0, 0, 0, 0,\n",
      "        0, 0, 0, 0, 0, 0, 0, 0, 0, 0, 0, 0, 0, 0, 0, 0, 0, 0, 0, 0, 0, 0, 0, 0,\n",
      "        0, 0, 0, 0, 0, 0, 0, 0, 0, 0, 0, 0, 0, 0, 0, 0, 0, 0, 0, 0, 0, 0, 0, 0,\n",
      "        0, 0, 0, 0, 0, 0, 0, 0, 0, 0, 0, 0, 0, 0, 0, 0, 0, 0, 0, 0, 0, 0, 0, 0,\n",
      "        0, 0, 0, 0, 0, 0, 0, 0, 0, 0, 0, 0, 0, 0, 0, 0, 0, 0, 0, 0, 0, 0, 0, 0,\n",
      "        0, 0, 0, 0, 0, 0, 0, 0, 0, 0, 0, 0, 0, 0, 0, 0, 0, 0, 0, 0, 0, 0, 0, 0,\n",
      "        0, 0, 0, 0, 0, 0, 0, 0, 0, 0, 0, 0, 0, 0, 0, 0, 0, 0, 0, 0, 0, 0, 0, 0,\n",
      "        0, 0, 0, 0, 0, 0, 0, 0, 0, 0, 0, 0, 0, 0, 0, 0, 0, 0, 0, 0, 0, 0, 0, 0,\n",
      "        0, 0, 0, 0, 0, 0, 0, 0, 0, 0, 0, 0, 0, 0, 0, 0, 0, 0, 0, 0, 0, 0, 0, 0,\n",
      "        0, 0, 0, 0, 0, 0, 0, 0, 0, 0, 0, 0, 0, 0, 0, 0, 0, 0, 0, 0, 0, 0, 0, 0,\n",
      "        0, 0, 0, 0, 0, 0, 0, 0, 0, 0, 0, 0, 0, 0, 0, 0, 0, 0, 0, 0, 0, 0, 0, 0,\n",
      "        0, 0, 0, 0, 0, 0, 0, 0, 0, 0, 0, 0, 0, 0, 0, 0, 0, 0, 0, 0, 0, 0, 0, 0,\n",
      "        0, 0, 0, 0, 0, 0, 0, 0, 0, 0, 0, 0, 0, 0, 0, 0, 0, 0, 0, 0, 0, 0, 0, 0,\n",
      "        0, 0, 0, 0, 0, 0, 0, 0, 0, 0, 0, 0, 0, 0, 0, 0, 0, 0, 0, 0, 0, 0, 0, 0,\n",
      "        0, 0, 0, 0, 0, 0, 0, 0, 0, 0, 0, 0, 0, 0, 0, 0, 0, 0, 0, 0, 0, 0, 0, 0,\n",
      "        0, 0, 0, 0, 0, 0, 0, 0, 0, 0, 0, 0, 0, 0, 0, 0, 0, 0, 0, 0, 0, 0, 0, 0,\n",
      "        0, 0, 0, 0, 0, 0, 0, 0, 0, 0, 0, 0, 0, 0, 0, 0, 0, 0, 0, 0, 0, 0, 0, 0,\n",
      "        0, 0, 0, 0, 0, 0, 0, 0, 0, 0, 0, 0, 0, 0, 0, 0, 0, 0, 0, 0, 0, 0, 0, 0,\n",
      "        0, 0, 0, 0, 0, 0, 0, 0, 0, 0, 0, 0, 0, 0, 0, 0, 0, 0, 0, 0, 0, 0, 0, 0,\n",
      "        0, 0, 0, 0, 0, 0, 0, 0]), 'attention_mask': tensor([1, 1, 1, 1, 1, 1, 1, 1, 1, 1, 1, 1, 1, 1, 1, 1, 1, 1, 1, 1, 1, 1, 1, 1,\n",
      "        1, 1, 1, 1, 1, 1, 1, 1, 1, 1, 1, 1, 1, 1, 1, 1, 1, 1, 1, 1, 1, 1, 1, 1,\n",
      "        1, 1, 1, 1, 1, 1, 1, 1, 1, 1, 1, 1, 1, 1, 1, 1, 1, 1, 1, 1, 1, 1, 1, 1,\n",
      "        1, 1, 1, 1, 1, 1, 1, 1, 1, 1, 1, 1, 1, 1, 1, 1, 1, 1, 1, 1, 1, 1, 1, 1,\n",
      "        1, 1, 1, 1, 1, 1, 1, 1, 1, 1, 1, 1, 1, 1, 1, 1, 1, 1, 1, 1, 1, 1, 1, 1,\n",
      "        1, 1, 1, 1, 1, 1, 1, 1, 1, 1, 1, 1, 1, 1, 1, 1, 1, 1, 1, 1, 1, 1, 1, 1,\n",
      "        1, 1, 1, 1, 1, 1, 1, 1, 1, 1, 1, 1, 1, 1, 1, 1, 1, 1, 1, 1, 1, 1, 1, 1,\n",
      "        1, 1, 1, 1, 1, 1, 1, 1, 1, 1, 1, 1, 1, 1, 1, 1, 1, 1, 1, 1, 1, 1, 1, 1,\n",
      "        1, 1, 1, 1, 1, 1, 1, 1, 1, 1, 1, 1, 1, 1, 1, 1, 1, 1, 1, 1, 1, 1, 1, 1,\n",
      "        1, 1, 1, 1, 1, 1, 1, 1, 1, 1, 1, 1, 1, 1, 1, 1, 1, 1, 1, 1, 1, 1, 1, 1,\n",
      "        1, 1, 1, 1, 1, 1, 1, 1, 1, 1, 1, 1, 1, 1, 1, 1, 1, 1, 1, 1, 1, 1, 1, 1,\n",
      "        1, 1, 1, 1, 1, 1, 1, 1, 1, 1, 1, 1, 1, 1, 1, 1, 1, 1, 1, 1, 1, 1, 1, 1,\n",
      "        1, 1, 1, 1, 1, 1, 1, 1, 1, 1, 1, 1, 1, 1, 1, 1, 0, 0, 0, 0, 0, 0, 0, 0,\n",
      "        0, 0, 0, 0, 0, 0, 0, 0, 0, 0, 0, 0, 0, 0, 0, 0, 0, 0, 0, 0, 0, 0, 0, 0,\n",
      "        0, 0, 0, 0, 0, 0, 0, 0, 0, 0, 0, 0, 0, 0, 0, 0, 0, 0, 0, 0, 0, 0, 0, 0,\n",
      "        0, 0, 0, 0, 0, 0, 0, 0, 0, 0, 0, 0, 0, 0, 0, 0, 0, 0, 0, 0, 0, 0, 0, 0,\n",
      "        0, 0, 0, 0, 0, 0, 0, 0, 0, 0, 0, 0, 0, 0, 0, 0, 0, 0, 0, 0, 0, 0, 0, 0,\n",
      "        0, 0, 0, 0, 0, 0, 0, 0, 0, 0, 0, 0, 0, 0, 0, 0, 0, 0, 0, 0, 0, 0, 0, 0,\n",
      "        0, 0, 0, 0, 0, 0, 0, 0, 0, 0, 0, 0, 0, 0, 0, 0, 0, 0, 0, 0, 0, 0, 0, 0,\n",
      "        0, 0, 0, 0, 0, 0, 0, 0, 0, 0, 0, 0, 0, 0, 0, 0, 0, 0, 0, 0, 0, 0, 0, 0,\n",
      "        0, 0, 0, 0, 0, 0, 0, 0, 0, 0, 0, 0, 0, 0, 0, 0, 0, 0, 0, 0, 0, 0, 0, 0,\n",
      "        0, 0, 0, 0, 0, 0, 0, 0]), 'labels': tensor(5)}\n"
     ]
    }
   ],
   "source": [
    "import torch\n",
    "from torch.utils.data import Dataset\n",
    "\n",
    "class TextClassificationDataset(Dataset):\n",
    "    \"\"\"\n",
    "    Custom PyTorch Dataset for text classification.\n",
    "    This class combines tokenized inputs and labels.\n",
    "    \"\"\"\n",
    "    def __init__(self, encodings, labels):\n",
    "        \"\"\"\n",
    "        Initialize the dataset with tokenized inputs and labels.\n",
    "        Parameters:\n",
    "            encodings (dict): Tokenized input data (input_ids and attention_mask).\n",
    "            labels (list or torch.Tensor): Corresponding labels for the data.\n",
    "        \"\"\"\n",
    "        self.encodings = encodings\n",
    "        self.labels = torch.tensor(labels, dtype=torch.long)  # Convert labels to tensor\n",
    "\n",
    "    def __len__(self):\n",
    "        \"\"\"\n",
    "        Return the total number of samples in the dataset.\n",
    "        \"\"\"\n",
    "        return len(self.labels)\n",
    "\n",
    "    def __getitem__(self, idx):\n",
    "        \"\"\"\n",
    "        Retrieve a single sample from the dataset.\n",
    "        Parameters:\n",
    "            idx (int): Index of the sample to retrieve.\n",
    "        Returns:\n",
    "            dict: A dictionary containing input_ids, attention_mask, and labels.\n",
    "        \"\"\"\n",
    "        item = {key: val[idx] for key, val in self.encodings.items()}  # input_ids and attention_mask\n",
    "        item['labels'] = self.labels[idx]  # Add the label\n",
    "        return item\n",
    "\n",
    "# Prepare labels\n",
    "labels = data['label_encoded'].tolist()  # Extract labels as a list\n",
    "\n",
    "# Create dataset instance\n",
    "dataset = TextClassificationDataset(encodings, labels)\n",
    "\n",
    "# Check the dataset\n",
    "print(f\"Number of samples in the dataset: {len(dataset)}\")\n",
    "print(\"Example of a dataset sample:\")\n",
    "print(dataset[0])  # Display the first sample\n"
   ]
  },
  {
   "cell_type": "code",
   "execution_count": 30,
   "metadata": {},
   "outputs": [
    {
     "name": "stdout",
     "output_type": "stream",
     "text": [
      "Number of training samples: 669\n",
      "Number of validation samples: 168\n"
     ]
    }
   ],
   "source": [
    "from sklearn.model_selection import train_test_split\n",
    "from torch.utils.data import DataLoader\n",
    "\n",
    "# Split dataset into training and validation sets\n",
    "train_size = 0.8  # Proportion of data used for training\n",
    "train_indices, val_indices = train_test_split(\n",
    "    list(range(len(dataset))), \n",
    "    test_size=1 - train_size, \n",
    "    random_state=42\n",
    ")\n",
    "\n",
    "# Subset the dataset for training and validation\n",
    "train_dataset = torch.utils.data.Subset(dataset, train_indices)\n",
    "val_dataset = torch.utils.data.Subset(dataset, val_indices)\n",
    "\n",
    "# Define DataLoaders for training and validation\n",
    "batch_size = 16  # Define batch size\n",
    "\n",
    "train_loader = DataLoader(train_dataset, batch_size=batch_size, shuffle=True)\n",
    "val_loader = DataLoader(val_dataset, batch_size=batch_size, shuffle=False)\n",
    "\n",
    "# Check the size of each set\n",
    "print(f\"Number of training samples: {len(train_dataset)}\")\n",
    "print(f\"Number of validation samples: {len(val_dataset)}\")\n"
   ]
  },
  {
   "cell_type": "code",
   "execution_count": 31,
   "metadata": {},
   "outputs": [
    {
     "name": "stdout",
     "output_type": "stream",
     "text": [
      "num_labels are 11\n"
     ]
    },
    {
     "name": "stderr",
     "output_type": "stream",
     "text": [
      "Some weights of BertForSequenceClassification were not initialized from the model checkpoint at bert-base-uncased and are newly initialized: ['classifier.bias', 'classifier.weight']\n",
      "You should probably TRAIN this model on a down-stream task to be able to use it for predictions and inference.\n"
     ]
    },
    {
     "name": "stdout",
     "output_type": "stream",
     "text": [
      "Model loaded and moved to device: cpu\n"
     ]
    }
   ],
   "source": [
    "from transformers import BertForSequenceClassification\n",
    "\n",
    "# Define the number of classes (unique labels in the dataset)\n",
    "num_labels = len(data['label_encoded'].unique())+1\n",
    "print(\"num_labels are\", num_labels)\n",
    "# Load pre-trained BERT model with a classification head\n",
    "model = BertForSequenceClassification.from_pretrained(\n",
    "    \"bert-base-uncased\",    # Pre-trained BERT model\n",
    "    num_labels=num_labels   # Number of output classes\n",
    ")\n",
    "\n",
    "# Move the model to the appropriate device (GPU if available)\n",
    "device = torch.device(\"cuda\" if torch.cuda.is_available() else \"cpu\")\n",
    "model.to(device)\n",
    "\n",
    "print(f\"Model loaded and moved to device: {device}\")\n"
   ]
  },
  {
   "cell_type": "code",
   "execution_count": 32,
   "metadata": {},
   "outputs": [
    {
     "name": "stdout",
     "output_type": "stream",
     "text": [
      "Optimizer, loss function, and scheduler initialized.\n"
     ]
    },
    {
     "name": "stderr",
     "output_type": "stream",
     "text": [
      "/Users/a123/anaconda3/lib/python3.11/site-packages/transformers/optimization.py:429: FutureWarning: This implementation of AdamW is deprecated and will be removed in a future version. Use the PyTorch implementation torch.optim.AdamW instead, or set `no_deprecation_warning=True` to disable this warning\n",
      "  warnings.warn(\n"
     ]
    }
   ],
   "source": [
    "from transformers import AdamW\n",
    "from torch.nn import CrossEntropyLoss\n",
    "\n",
    "# Define optimizer\n",
    "optimizer = AdamW(model.parameters(), lr=5e-5)\n",
    "\n",
    "# Define loss function (for classification tasks)\n",
    "loss_fn = CrossEntropyLoss()\n",
    "\n",
    "# Optionally, define a learning rate scheduler\n",
    "from torch.optim.lr_scheduler import StepLR\n",
    "scheduler = StepLR(optimizer, step_size=2, gamma=0.1)  # Decays learning rate every 2 epochs\n",
    "\n",
    "print(\"Optimizer, loss function, and scheduler initialized.\")\n"
   ]
  },
  {
   "cell_type": "code",
   "execution_count": 33,
   "metadata": {},
   "outputs": [],
   "source": [
    "from tqdm import tqdm\n",
    "import torch\n",
    "\n",
    "# Define the training loop\n",
    "def train_epoch(model, data_loader, loss_fn, optimizer, device):\n",
    "    \"\"\"\n",
    "    Train the model for one epoch.\n",
    "    Parameters:\n",
    "        model (torch.nn.Module): BERT model with classification head.\n",
    "        data_loader (DataLoader): DataLoader for training data.\n",
    "        loss_fn (function): Loss function (e.g., CrossEntropyLoss).\n",
    "        optimizer (torch.optim.Optimizer): Optimizer (e.g., AdamW).\n",
    "        device (torch.device): Device to run the training on (CPU or GPU).\n",
    "    Returns:\n",
    "        float: Average loss over the epoch.\n",
    "    \"\"\"\n",
    "    model.train()  # Set model to training mode\n",
    "    total_loss = 0\n",
    "\n",
    "    for batch in tqdm(data_loader, desc=\"Training\"):\n",
    "        optimizer.zero_grad()  # Clear gradients from the previous step\n",
    "\n",
    "        # Move batch data to the target device\n",
    "        input_ids = batch['input_ids'].to(device)\n",
    "        attention_mask = batch['attention_mask'].to(device)\n",
    "        labels = batch['labels'].to(device)\n",
    "\n",
    "        # Forward pass\n",
    "        outputs = model(input_ids, attention_mask=attention_mask, labels=labels)\n",
    "        loss = outputs.loss\n",
    "\n",
    "        # Backward pass and optimization\n",
    "        loss.backward()\n",
    "        optimizer.step()\n",
    "\n",
    "        total_loss += loss.item()\n",
    "\n",
    "    # Return average loss\n",
    "    return total_loss / len(data_loader)\n",
    "\n",
    "\n",
    "# Define the validation loop\n",
    "def eval_model(model, data_loader, loss_fn, device):\n",
    "    \"\"\"\n",
    "    Evaluate the model on the validation set.\n",
    "    Parameters:\n",
    "        model (torch.nn.Module): BERT model with classification head.\n",
    "        data_loader (DataLoader): DataLoader for validation data.\n",
    "        loss_fn (function): Loss function (e.g., CrossEntropyLoss).\n",
    "        device (torch.device): Device to run the evaluation on (CPU or GPU).\n",
    "    Returns:\n",
    "        tuple: (average loss, accuracy)\n",
    "    \"\"\"\n",
    "    model.eval()  # Set model to evaluation mode\n",
    "    total_loss = 0\n",
    "    correct_predictions = 0\n",
    "    total_samples = 0\n",
    "\n",
    "    with torch.no_grad():  # Disable gradient computation\n",
    "        for batch in tqdm(data_loader, desc=\"Evaluating\"):\n",
    "            # Move batch data to the target device\n",
    "            input_ids = batch['input_ids'].to(device)\n",
    "            attention_mask = batch['attention_mask'].to(device)\n",
    "            labels = batch['labels'].to(device)\n",
    "\n",
    "            # Forward pass\n",
    "            outputs = model(input_ids, attention_mask=attention_mask, labels=labels)\n",
    "            loss = outputs.loss\n",
    "            logits = outputs.logits\n",
    "\n",
    "            total_loss += loss.item()\n",
    "\n",
    "            # Compute accuracy\n",
    "            preds = torch.argmax(logits, dim=1)\n",
    "            correct_predictions += (preds == labels).sum().item()\n",
    "            total_samples += labels.size(0)\n",
    "\n",
    "    # Compute average loss and accuracy\n",
    "    avg_loss = total_loss / len(data_loader)\n",
    "    accuracy = correct_predictions / total_samples\n",
    "    return avg_loss, accuracy\n"
   ]
  },
  {
   "cell_type": "code",
   "execution_count": 36,
   "metadata": {},
   "outputs": [
    {
     "name": "stdout",
     "output_type": "stream",
     "text": [
      "\n",
      "Epoch 1/10\n",
      "------------------------------\n"
     ]
    },
    {
     "name": "stderr",
     "output_type": "stream",
     "text": [
      "Training: 100%|██████████| 42/42 [12:57<00:00, 18.51s/it]\n"
     ]
    },
    {
     "name": "stdout",
     "output_type": "stream",
     "text": [
      "Training loss: 2.0545\n"
     ]
    },
    {
     "name": "stderr",
     "output_type": "stream",
     "text": [
      "Evaluating: 100%|██████████| 11/11 [00:40<00:00,  3.66s/it]\n"
     ]
    },
    {
     "name": "stdout",
     "output_type": "stream",
     "text": [
      "Validation loss: 1.7221\n",
      "Validation accuracy: 0.4940\n",
      "\n",
      "Epoch 2/10\n",
      "------------------------------\n"
     ]
    },
    {
     "name": "stderr",
     "output_type": "stream",
     "text": [
      "Training:   2%|▏         | 1/42 [00:16<11:19, 16.58s/it]"
     ]
    }
   ],
   "source": [
    "# Define the number of training epochs\n",
    "num_epochs = 7  # You can adjust based on your dataset and task\n",
    "\n",
    "# Track training progress\n",
    "history = {\n",
    "    \"train_loss\": [],\n",
    "    \"val_loss\": [],\n",
    "    \"val_accuracy\": []\n",
    "}\n",
    "\n",
    "# Main training loop\n",
    "for epoch in range(num_epochs):\n",
    "    print(f\"\\nEpoch {epoch + 1}/{num_epochs}\")\n",
    "    print(\"-\" * 30)\n",
    "\n",
    "    # Train the model for one epoch\n",
    "    train_loss = train_epoch(model, train_loader, loss_fn, optimizer, device)\n",
    "    print(f\"Training loss: {train_loss:.4f}\")\n",
    "\n",
    "    # Evaluate the model on the validation set\n",
    "    val_loss, val_accuracy = eval_model(model, val_loader, loss_fn, device)\n",
    "    print(f\"Validation loss: {val_loss:.4f}\")\n",
    "    print(f\"Validation accuracy: {val_accuracy:.4f}\")\n",
    "\n",
    "    # Save metrics for plotting or analysis\n",
    "    history[\"train_loss\"].append(train_loss)\n",
    "    history[\"val_loss\"].append(val_loss)\n",
    "    history[\"val_accuracy\"].append(val_accuracy)\n",
    "\n",
    "    # Update learning rate (if using a scheduler)\n",
    "    if scheduler:\n",
    "        scheduler.step()\n",
    "\n",
    "# Print summary of training\n",
    "print(\"\\nTraining complete!\")\n",
    "print(f\"Best validation accuracy: {max(history['val_accuracy']):.4f}\")\n"
   ]
  },
  {
   "cell_type": "code",
   "execution_count": null,
   "metadata": {},
   "outputs": [
    {
     "name": "stdout",
     "output_type": "stream",
     "text": [
      "Number of test samples: 257\n"
     ]
    }
   ],
   "source": [
    "# Split off a test set if not already done\n",
    "from sklearn.model_selection import train_test_split\n",
    "\n",
    "_, test_indices = train_test_split(list(range(len(dataset))), test_size=0.3, random_state=42)\n",
    "test_dataset = torch.utils.data.Subset(dataset, test_indices)\n",
    "test_loader = DataLoader(test_dataset, batch_size=batch_size, shuffle=False)\n",
    "\n",
    "print(f\"Number of test samples: {len(test_dataset)}\")\n"
   ]
  },
  {
   "cell_type": "code",
   "execution_count": null,
   "metadata": {},
   "outputs": [],
   "source": [
    "from sklearn.metrics import accuracy_score, classification_report\n",
    "\n",
    "def evaluate_model(model, data_loader, device):\n",
    "    \"\"\"\n",
    "    Evaluate the model on a given dataset.\n",
    "    Parameters:\n",
    "        model (torch.nn.Module): Trained model to evaluate.\n",
    "        data_loader (DataLoader): DataLoader for the evaluation dataset.\n",
    "        device (torch.device): Device to perform evaluation on.\n",
    "    Returns:\n",
    "        dict: Evaluation metrics including accuracy and classification report.\n",
    "    \"\"\"\n",
    "    model.eval()  # Set model to evaluation mode\n",
    "    predictions, true_labels = [], []\n",
    "\n",
    "    with torch.no_grad():  # Disable gradient computation\n",
    "        for batch in data_loader:\n",
    "            # Move batch data to the target device\n",
    "            input_ids = batch['input_ids'].to(device)\n",
    "            attention_mask = batch['attention_mask'].to(device)\n",
    "            labels = batch['labels'].to(device)\n",
    "\n",
    "            # Forward pass\n",
    "            outputs = model(input_ids, attention_mask=attention_mask)\n",
    "            logits = outputs.logits\n",
    "\n",
    "            # Store predictions and true labels\n",
    "            preds = torch.argmax(logits, dim=1).cpu().numpy()\n",
    "            predictions.extend(preds)\n",
    "            true_labels.extend(labels.cpu().numpy())\n",
    "\n",
    "    # Compute evaluation metrics\n",
    "    accuracy = accuracy_score(true_labels, predictions)\n",
    "    report = classification_report(true_labels, predictions, output_dict=True)\n",
    "\n",
    "    return {\"accuracy\": accuracy, \"classification_report\": report}\n"
   ]
  },
  {
   "cell_type": "code",
   "execution_count": 28,
   "metadata": {},
   "outputs": [
    {
     "name": "stdout",
     "output_type": "stream",
     "text": [
      "Test Accuracy: 0.7899\n",
      "\n",
      "Classification Report:\n",
      "{'1': {'f1-score': 0.0, 'precision': 0.0, 'recall': 0.0, 'support': 6},\n",
      " '10': {'f1-score': 0.0, 'precision': 0.0, 'recall': 0.0, 'support': 1},\n",
      " '12': {'f1-score': 0.8181818181818182,\n",
      "        'precision': 0.84375,\n",
      "        'recall': 0.7941176470588235,\n",
      "        'support': 34},\n",
      " '13': {'f1-score': 0.8571428571428572,\n",
      "        'precision': 0.8888888888888888,\n",
      "        'recall': 0.8275862068965517,\n",
      "        'support': 29},\n",
      " '14': {'f1-score': 0.8695652173913043,\n",
      "        'precision': 0.8163265306122449,\n",
      "        'recall': 0.9302325581395349,\n",
      "        'support': 43},\n",
      " '15': {'f1-score': 0.802721088435374,\n",
      "        'precision': 0.7195121951219512,\n",
      "        'recall': 0.9076923076923077,\n",
      "        'support': 65},\n",
      " '17': {'f1-score': 0.9295774647887325,\n",
      "        'precision': 0.8918918918918919,\n",
      "        'recall': 0.9705882352941176,\n",
      "        'support': 34},\n",
      " '20': {'f1-score': 0.6666666666666667,\n",
      "        'precision': 0.8333333333333334,\n",
      "        'recall': 0.5555555555555556,\n",
      "        'support': 9},\n",
      " '21': {'f1-score': 0.0, 'precision': 0.0, 'recall': 0.0, 'support': 2},\n",
      " '22': {'f1-score': 0.0, 'precision': 0.0, 'recall': 0.0, 'support': 1},\n",
      " '23': {'f1-score': 0.0, 'precision': 0.0, 'recall': 0.0, 'support': 1},\n",
      " '25': {'f1-score': 0.0, 'precision': 0.0, 'recall': 0.0, 'support': 1},\n",
      " '3': {'f1-score': 0.7692307692307693,\n",
      "       'precision': 0.625,\n",
      "       'recall': 1.0,\n",
      "       'support': 15},\n",
      " '4': {'f1-score': 0.0, 'precision': 0.0, 'recall': 0.0, 'support': 5},\n",
      " '5': {'f1-score': 0.0, 'precision': 0.0, 'recall': 0.0, 'support': 2},\n",
      " '6': {'f1-score': 0.0, 'precision': 0.0, 'recall': 0.0, 'support': 1},\n",
      " '7': {'f1-score': 0.0, 'precision': 0.0, 'recall': 0.0, 'support': 1},\n",
      " '8': {'f1-score': 0.0, 'precision': 0.0, 'recall': 0.0, 'support': 3},\n",
      " '9': {'f1-score': 0.0, 'precision': 0.0, 'recall': 0.0, 'support': 4},\n",
      " 'accuracy': 0.7898832684824902,\n",
      " 'macro avg': {'f1-score': 0.3006887306230275,\n",
      "               'precision': 0.29572120209727953,\n",
      "               'recall': 0.3150406584545732,\n",
      "               'support': 257},\n",
      " 'weighted avg': {'f1-score': 0.7446988136682043,\n",
      "                  'precision': 0.714143718293212,\n",
      "                  'recall': 0.7898832684824902,\n",
      "                  'support': 257}}\n"
     ]
    },
    {
     "name": "stderr",
     "output_type": "stream",
     "text": [
      "/Users/a123/anaconda3/lib/python3.11/site-packages/sklearn/metrics/_classification.py:1344: UndefinedMetricWarning: Precision and F-score are ill-defined and being set to 0.0 in labels with no predicted samples. Use `zero_division` parameter to control this behavior.\n",
      "  _warn_prf(average, modifier, msg_start, len(result))\n",
      "/Users/a123/anaconda3/lib/python3.11/site-packages/sklearn/metrics/_classification.py:1344: UndefinedMetricWarning: Precision and F-score are ill-defined and being set to 0.0 in labels with no predicted samples. Use `zero_division` parameter to control this behavior.\n",
      "  _warn_prf(average, modifier, msg_start, len(result))\n",
      "/Users/a123/anaconda3/lib/python3.11/site-packages/sklearn/metrics/_classification.py:1344: UndefinedMetricWarning: Precision and F-score are ill-defined and being set to 0.0 in labels with no predicted samples. Use `zero_division` parameter to control this behavior.\n",
      "  _warn_prf(average, modifier, msg_start, len(result))\n"
     ]
    }
   ],
   "source": [
    "# Evaluate the model on the test set\n",
    "results = evaluate_model(model, test_loader, device)\n",
    "\n",
    "# Print accuracy\n",
    "print(f\"Test Accuracy: {results['accuracy']:.4f}\")\n",
    "\n",
    "# Print classification report\n",
    "from pprint import pprint\n",
    "print(\"\\nClassification Report:\")\n",
    "pprint(results['classification_report'])\n"
   ]
  },
  {
   "cell_type": "code",
   "execution_count": null,
   "metadata": {},
   "outputs": [],
   "source": []
  }
 ],
 "metadata": {
  "kernelspec": {
   "display_name": "My Custom Environment",
   "language": "python",
   "name": "your_environment_name"
  },
  "language_info": {
   "codemirror_mode": {
    "name": "ipython",
    "version": 3
   },
   "file_extension": ".py",
   "mimetype": "text/x-python",
   "name": "python",
   "nbconvert_exporter": "python",
   "pygments_lexer": "ipython3",
   "version": "3.11.3"
  }
 },
 "nbformat": 4,
 "nbformat_minor": 2
}
